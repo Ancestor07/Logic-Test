{
  "nbformat": 4,
  "nbformat_minor": 0,
  "metadata": {
    "colab": {
      "provenance": [],
      "authorship_tag": "ABX9TyPLzam3iixbBvEO/q6rjM0b",
      "include_colab_link": true
    },
    "kernelspec": {
      "name": "python3",
      "display_name": "Python 3"
    },
    "language_info": {
      "name": "python"
    }
  },
  "cells": [
    {
      "cell_type": "markdown",
      "metadata": {
        "id": "view-in-github",
        "colab_type": "text"
      },
      "source": [
        "<a href=\"https://colab.research.google.com/github/Ancestor07/Logic-Test/blob/main/logic_tes.ipynb\" target=\"_parent\"><img src=\"https://colab.research.google.com/assets/colab-badge.svg\" alt=\"Open In Colab\"/></a>"
      ]
    },
    {
      "cell_type": "markdown",
      "source": [
        "Program untuk mengkonversi jam,menit dan detik (inputan) kedalam detik"
      ],
      "metadata": {
        "id": "LkFLJnuxzHnu"
      }
    },
    {
      "cell_type": "code",
      "execution_count": null,
      "metadata": {
        "id": "sAyLAK_nxrTy"
      },
      "outputs": [],
      "source": [
        "injam = int(input(\"Masukkan Jam : \"))\n",
        "inmenit = int(input(\"Masukkan Menit : \"))\n",
        "indetik = int(input(\"Masukkan Detik : \"))\n",
        "\n",
        "jam = injam*3600\n",
        "menit = inmenit*60\n",
        "detik = jam + menit + indetik\n",
        "print(detik)"
      ]
    },
    {
      "cell_type": "markdown",
      "source": [
        "Program untuk menghitung nilai faktorial dengan cara rekursif"
      ],
      "metadata": {
        "id": "JfBnaMrzzagN"
      }
    },
    {
      "cell_type": "code",
      "source": [
        "nilai = int(input(\"Masukkan Nilai Faktorial : \"))\n",
        "faktorial = 1\n",
        "for i in range(1,nilai+1) :\n",
        "  faktorial *= i\n",
        "\n",
        "print(faktorial)"
      ],
      "metadata": {
        "id": "BtI6I6UPy0vz"
      },
      "execution_count": null,
      "outputs": []
    },
    {
      "cell_type": "markdown",
      "source": [
        "Program pengecek tahun kabisat atau bukan"
      ],
      "metadata": {
        "id": "GdgshP2Kzm9Y"
      }
    },
    {
      "cell_type": "code",
      "source": [
        "tahun = int(input(\"Masukkan Tahun : \"))\n",
        "\n",
        "if tahun % 400 == 0 or tahun % 4 == 0 :\n",
        "  print(\"Tahun \",tahun,\" adalah tahun kabisat\")\n",
        "elif tahun % 100 == 0 :\n",
        "  print(\"Tahun \",tahun,\" bukan tahun kabisat\")\n",
        "else :\n",
        "  print(\"Tahun \",tahun,\" bukan tahun kabisat\")"
      ],
      "metadata": {
        "id": "YPjtn3rZy3AF"
      },
      "execution_count": null,
      "outputs": []
    },
    {
      "cell_type": "markdown",
      "source": [
        "Program pengecek kata palindrome"
      ],
      "metadata": {
        "id": "5yBCQpm1zt8i"
      }
    },
    {
      "cell_type": "code",
      "source": [
        "kata = str(input(\"Masukkan Kata : \"))\n",
        "cekkata = str()\n",
        "cekkata = kata[::-1]\n",
        "\n",
        "if kata == cekkata :\n",
        "  print(\"Kata \",kata,\" merupakan palindrome\")\n",
        "else :\n",
        "  print(\"Kata \",kata,\" bukan merupakan palindrome\")"
      ],
      "metadata": {
        "id": "xqKaM381y46_"
      },
      "execution_count": null,
      "outputs": []
    },
    {
      "cell_type": "markdown",
      "source": [
        "Program penghitung huruf yang terpakai dan jumlahnya"
      ],
      "metadata": {
        "id": "6ocTrvwmzxk0"
      }
    },
    {
      "cell_type": "code",
      "source": [
        "kalimat = input(\"Masukkan kalimat: \")\n",
        "jumlah_huruf = {}\n",
        "total_huruf = set()\n",
        "for huruf in kalimat:\n",
        "    total_huruf.add(huruf)\n",
        "    if huruf.isalpha():\n",
        "        if huruf in jumlah_huruf:\n",
        "            jumlah_huruf[huruf] += 1\n",
        "        else:\n",
        "            jumlah_huruf[huruf] = 1\n",
        "print(\"Huruf  Jumlah\")\n",
        "for huruf, jumlah in jumlah_huruf.items():\n",
        "    print(f\"{huruf}      {jumlah}\")\n",
        "\n",
        "print(\"Jumlah yang terpakai : \",len(total_huruf))"
      ],
      "metadata": {
        "id": "Lhif5U6vy-HH"
      },
      "execution_count": null,
      "outputs": []
    },
    {
      "cell_type": "markdown",
      "source": [
        "Program pembuat segitiga pascal sesuai level kedalaman yang diinginkan"
      ],
      "metadata": {
        "id": "6V6lLPga0CGD"
      }
    },
    {
      "cell_type": "code",
      "source": [
        "level = int(input(\"Masukkan kedalaman level : \"))\n",
        "\n",
        "segitiga = []\n",
        "\n",
        "for row in range(level):\n",
        "    current_row = []\n",
        "    for col in range(row + 1):\n",
        "        if col == 0 or col == row:\n",
        "            current_row.append(1)\n",
        "        else:\n",
        "            previous_row = segitiga[row - 1]\n",
        "            current_row.append(previous_row[col - 1] + previous_row[col])\n",
        "    segitiga.append(current_row)\n",
        "\n",
        "for i in range(level):\n",
        "    print(\" \" * (level - i - 1), end=\"\")\n",
        "    print(' '.join(str(num) for num in segitiga[i]))"
      ],
      "metadata": {
        "id": "KzdcrGTezAVP"
      },
      "execution_count": null,
      "outputs": []
    },
    {
      "cell_type": "markdown",
      "source": [
        "Program penghilangkan tanda baca pada kalimat"
      ],
      "metadata": {
        "id": "kj8ooPw_0LAt"
      }
    },
    {
      "cell_type": "code",
      "source": [
        "kalimat = input(\"Masukkan kalimat: \")\n",
        "karakter_lolos = []\n",
        "for karakter in kalimat:\n",
        "    if karakter.isalpha():\n",
        "        karakter_lolos.append(karakter)\n",
        "kalimat_baru = ''.join(karakter_lolos)\n",
        "print(kalimat_baru)"
      ],
      "metadata": {
        "id": "bdeZXPISzC-3"
      },
      "execution_count": null,
      "outputs": []
    }
  ]
}